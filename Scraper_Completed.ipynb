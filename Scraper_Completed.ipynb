{
 "cells": [
  {
   "cell_type": "markdown",
   "metadata": {},
   "source": [
    "# Python and Web Scraping"
   ]
  },
  {
   "cell_type": "markdown",
   "metadata": {},
   "source": [
    "MIT Political Science Methods Series  \n",
    "Fall 2019  \n",
    "Andy Halterman"
   ]
  },
  {
   "cell_type": "markdown",
   "metadata": {},
   "source": [
    "## Jupyter Notebooks\n",
    "\n",
    "Jupyter notebooks are a way of writing code, running code, and displaying output in one convenient place. You can write code in code blocks, or write markdown/text in blocks like this. It's often useful to explain what you're doing and finding so when you or someone else picks up the notebook in the future, they'll know what's going on.\n",
    "\n",
    "You can execute code chunks by clicking the cell to run and hitting \"Run\" button on the top bar, or by typing \"shift-enter\". You can always return to a previous code chunk, modify it, and re-run it.\n",
    "\n",
    "You can write math in notebooks, just like in Rmarkdown: $\\bar{x} = \\frac{1}{n}\\sum_{i=1}^n x_i$\n",
    "\n",
    "Jupyter is great for prototyping, but for more heavy duty use, replication, running on a server, etc., I recommend re-writing the code into a `.py` file that can be called from the command line with `python mycode.py`. This process also gives you a chance to refactor your code, making it more efficient, readable, and dependable."
   ]
  },
  {
   "cell_type": "markdown",
   "metadata": {},
   "source": [
    "## Python vs. R\n",
    "\n",
    "Python and R are fairly similar. This is a quick overview of the differences to help you get up to speed.\n",
    "\n",
    "### Importing packages\n",
    "\n",
    "- Importing packages is similar: instead of `[R] library(mypackage)`, do `[Python] import mypackage`.\n",
    "- Python also lets you import specific functions from a package: `from mypackage import cool_function`\n",
    "- You can also rename packages if they're too long: `import numpy as np`"
   ]
  },
  {
   "cell_type": "code",
   "execution_count": 27,
   "metadata": {},
   "outputs": [],
   "source": [
    "## Practice! We need to import\n",
    "# 1. a library called \"requests\"\n",
    "import requests\n",
    "# 2. a module called \"BeautifulSoup\" from a library called \"bs4\"\n",
    "from bs4 import BeautifulSoup"
   ]
  },
  {
   "cell_type": "markdown",
   "metadata": {},
   "source": [
    "### What are all those dots for? (Or, methods, attributes, and namespaces)\n",
    "\n",
    "- Dots have special meaning in Python. It's not like R, where people put dots in all sorts of names.\n",
    "- Python is much more careful about keeping packages' functions attached to the functions. If the `requests` library has a function called `get`, you call it like this `requests.get()`. This reminds you where the `get` function came from and prevents you from overwriting some other package's `get` function.\n",
    "- Python is also more \"object oriented\" than R. Objects often have built in or attached functions, called methods. \n",
    "- These methods are called with a dot notation. Compare: \n",
    "```\n",
    "[R] strsplit(\"Andy Halterman\", \" \")\n",
    "```\n",
    "and\n",
    "\n",
    "```\n",
    "    [Python] \"Andy Halterman\".split(\" \")\n",
    "```\n",
    "\n",
    "- Objects can also have attributes, which are pieces of data attached to an object. Example: `andy.subfields = ['methods', 'security']`\n"
   ]
  },
  {
   "cell_type": "code",
   "execution_count": 23,
   "metadata": {},
   "outputs": [],
   "source": [
    "## Practice! Can you figure out how to make a string all upper case?\n"
   ]
  },
  {
   "cell_type": "markdown",
   "metadata": {},
   "source": [
    "### Data Structures\n",
    "\n",
    "- Like R's vectors, Python uses a lot of lists. These are ordered arrays. Note that Python starts with 0! \n",
    "\n",
    "```\n",
    "my_list = [\"x\", \"y\", \"z\"]\n",
    "> my_list[0] \n",
    "x\n",
    "```\n",
    "\n",
    "- Python has a data structure called a dictionary, which are like lists that you access by key name instead of by position (think a more general form of R's dataframes). Example:\n",
    "\n",
    "```\n",
    "article = {\"title\": \"Rivalry and Revenge\",\n",
    "           \"author\" : \"Balcells\",\n",
    "           \"year\" : \"2017\"}\n",
    "\n",
    "> article.keys()\n",
    "['title', 'author', 'year']\n",
    "\n",
    "> article['author']\n",
    "\"Balcells\"\n",
    "```\n",
    "\n",
    "### Loops and functions\n",
    "\n",
    "\n",
    "- Functions are only slightly different from R:\n",
    "\n",
    "```\n",
    "def my_function(x):\n",
    "    z = (x + 2)^2\n",
    "    return z\n",
    "```\n",
    "\n",
    "- Loops are fast and nice in Python, unlike in R, and are very easily done:\n",
    "\n",
    "```\n",
    "for i in my_list:\n",
    "    my_function(i)\n",
    "```\n",
    "\n",
    "- Pro move: list comprehensions:\n",
    "\n",
    "```\n",
    "[my_function(i) for i in my_list]\n",
    "```"
   ]
  },
  {
   "cell_type": "code",
   "execution_count": 25,
   "metadata": {},
   "outputs": [
    {
     "name": "stdout",
     "output_type": "stream",
     "text": [
      "I\n",
      "LOVE\n",
      "TO\n",
      "SCRAPE\n"
     ]
    }
   ],
   "source": [
    "## Practice! Can you write a loop that goes over a list of words and prints a capitalized version of each one?\n",
    "words = 'i love to scrape'.split(\" \")\n",
    "for w in words:\n",
    "    print(w.upper())"
   ]
  },
  {
   "cell_type": "code",
   "execution_count": null,
   "metadata": {},
   "outputs": [],
   "source": [
    "### Whitespace\n",
    "\n",
    "- As you can tell, Python makes heavy use of whitespace to set apart different levels of functions, for loops, etc. Use four spaces (Jupyter converts tabs to four spaces automatically. \n",
    "- No need for curly braces!\n",
    "\n",
    "```\n",
    "def my_function(big_list):\n",
    "    print(len(big_list))\n",
    "    for l in big_list:\n",
    "        for i in l:\n",
    "            ...\n",
    "    return stuff\n",
    "```"
   ]
  },
  {
   "cell_type": "markdown",
   "metadata": {},
   "source": [
    "## Scraping Overview\n",
    "\n",
    "Most news sites and similar web pages can be scraped through a three step process:\n",
    "\n",
    "1. given a link to an article, extracting and formatting all the needed info from the page\n",
    "2. given an archive-type page of links, finding all the links on the page.\n",
    "3. iterating through each page of archives, scraping all the pages from it, and saving to disk\n",
    "\n",
    "We'll write one function for each."
   ]
  },
  {
   "cell_type": "code",
   "execution_count": 2,
   "metadata": {},
   "outputs": [],
   "source": [
    "# my comment"
   ]
  },
  {
   "cell_type": "markdown",
   "metadata": {
    "collapsed": true
   },
   "source": [
    "## Libraries and setup"
   ]
  },
  {
   "cell_type": "code",
   "execution_count": 4,
   "metadata": {},
   "outputs": [],
   "source": [
    "# requests is for general HTTP loading\n",
    "import requests\n",
    "# BeautifulSoup is an HTML parser\n",
    "from bs4 import BeautifulSoup\n",
    "# JSON is a nice format for writing out\n",
    "# ujson can handle datetimes better and is a drop in replacement for the json module\n",
    "import json"
   ]
  },
  {
   "cell_type": "code",
   "execution_count": 5,
   "metadata": {},
   "outputs": [],
   "source": [
    "# Sometimes you'll need the regular expressions library and a date library\n",
    "import re\n",
    "import dateutil.parser"
   ]
  },
  {
   "cell_type": "code",
   "execution_count": null,
   "metadata": {},
   "outputs": [],
   "source": []
  },
  {
   "cell_type": "markdown",
   "metadata": {},
   "source": [
    "## Page scraper"
   ]
  },
  {
   "cell_type": "markdown",
   "metadata": {},
   "source": [
    "We'll write a function here that takes in the URL of an article or page, extracts the information we want from HTML, and structures the output.\n",
    "\n",
    "Python things to learn:\n",
    "\n",
    "- calling methods from objects\n",
    "- what a dictionary looks like\n",
    "- how to define a function\n",
    "\n",
    "HTML things to learn: \n",
    "\n",
    "- Chrome inspector\n",
    "- what HTML tags look like"
   ]
  },
  {
   "cell_type": "code",
   "execution_count": 6,
   "metadata": {},
   "outputs": [],
   "source": [
    "# find the URL of an article to scrape\n",
    "url = \"https://reliefweb.int/report/afghanistan/more-200-displaced-families-receive-cash-assistance-laghman-province\""
   ]
  },
  {
   "cell_type": "code",
   "execution_count": 11,
   "metadata": {},
   "outputs": [
    {
     "data": {
      "text/plain": [
       "b'<!DOCTYPE html>\\n<html lang=\"en\" dir=\"ltr\" prefix=\"fb: http://ogp.me/ns/fb# og: http://ogp.me/ns# article: http://ogp.me/ns/article#\">\\n\\n<head>\\n  <meta http-equiv=\"Content-Type\" content=\"text/html; charset=utf-8\" />\\n<link rel=\"apple-touch-icon\" href=\"/profiles/reliefweb/themes/kobe/images/apple-touch-icon.png\"/>\\n<link rel=\"icon\" href=\"/profiles/reliefweb/themes/kobe/images/favicon.png\"/>\\n<!--[if IE]><link rel=\"shortcut icon\" href=\"/profiles/reliefweb/themes/kobe/favicon.ico\"><![endif]-->\\n<link rel=\"shortcut icon\" href=\"https://reliefweb.int/profiles/reliefweb/themes/kobe/favicon.ico\" type=\"image/vnd.microsoft.icon\" />\\n<meta name=\"description\" content=\"English News and Press Release on Afghanistan about Shelter and Non-Food Items and IDPs; published on 06 Jan 2018 by Govt. Afghanistan\" />\\n<link rel=\"canonical\" href=\"https://reliefweb.int/report/afghanistan/more-200-displaced-families-receive-cash-assistance-laghman-province\" />\\n<link rel=\"shortlink\" href=\"https://reliefweb.int/node/2404849\" />\\n<link rel=\"image_src\" href=\"https://reliefweb.int/profiles/reliefweb/themes/kobe/images/rw-logo-social-media.png\" />\\n<meta name=\"original-source\" content=\"http://morr.gov.af/en/news/70008\" />\\n<meta property=\"fb:app_id\" content=\"1916193535375038\" />\\n<meta property=\"og:description\" content=\"English News and Press Release on Afghanistan about Shelter and Non-Food Items and IDPs; published on 06 Jan 2018 by Govt. Afghanistan\" />\\n<meta property=\"og:image\" content=\"https://reliefweb.int/profiles/reliefweb/themes/kobe/images/rw-logo-social-media.png\" />\\n<meta property=\"og:site_name\" content=\"ReliefWeb\" />\\n<meta property=\"og:title\" content=\"More than 200 Displaced families Receive Cash Assistance in Laghman Province - Afghanistan\" />\\n<meta property=\"og:type\" content=\"article\" />\\n<meta property=\"og:url\" content=\"https://reliefweb.int/report/afghanistan/more-200-displaced-families-receive-cash-assistance-laghman-province\" />\\n<meta name=\"twitter:card\" content=\"summary\" />\\n<meta name=\"twitter:site\" content=\"@reliefweb\" />\\n  <title>More than 200 Displaced families Receive Cash Assistance in Laghman Province - Afghanistan | ReliefWeb</title>\\n  <link type=\"text/css\" rel=\"stylesheet\" href=\"https://reliefweb.int/sites/reliefweb.int/files/css/css_0NZfjXZgVIbSNcc0oLGFdwdevfViZz9nhcQfgYHi6Gk.css\" media=\"all\" />\\n<link type=\"text/css\" rel=\"stylesheet\" href=\"https://reliefweb.int/sites/reliefweb.int/files/css/css_PGbJgHCUCBf4dg7K9Kt8aAwsApndP4GZ9RuToPy3-Fk.css\" media=\"all\" />\\n\\n<!--[if gte IE 7]>\\n<link type=\"text/css\" rel=\"stylesheet\" href=\"https://reliefweb.int/profiles/reliefweb/themes/kobe/style-ie.css?pg56x2\" media=\"all\" />\\n<![endif]-->\\n\\n<!--[if IE 7]>\\n<link type=\"text/css\" rel=\"stylesheet\" href=\"https://reliefweb.int/profiles/reliefweb/themes/kobe/style-ie7.css?pg56x2\" media=\"all\" />\\n<![endif]-->\\n<link type=\"text/css\" rel=\"stylesheet\" href=\"https://reliefweb.int/sites/reliefweb.int/files/css/css_quW47FRmfqvjanHOMKuGByzNkMTB8GEeRnQVveDnHK8.css\" media=\"all\" />\\n<link type=\"text/css\" rel=\"stylesheet\" href=\"https://reliefweb.int/sites/reliefweb.int/files/css/css_DKZ_1x-0oUC2Y1T4j23eTFTICydnwprKvx1KtgXcAm8.css\" media=\"screen\" />\\n<link type=\"text/css\" rel=\"stylesheet\" href=\"https://reliefweb.int/sites/reliefweb.int/files/css/css_iaAfVjuMtAcMY6MOPWDvnn4kuuxWhYeXZRsWD5_o4tU.css\" media=\"print\" />\\n  <script type=\"text/javascript\">\\n<!--//--><![CDATA[//><!--\\ndataLayer = [{\"dimension1\":\"Report\",\"dimension2\":\"News and Press Release\",\"dimension4\":\"English\",\"dimension5\":\"Afghanistan\",\"dimension6\":\"Afghanistan\",\"dimension7\":\"Government of Afghanistan\",\"dimension8\":\"Shelter and Non-Food Items\",\"dimension11\":\"IDPs\",\"dimension12\":\"anonymous user\",\"dimension13\":\"2018-01-08\",\"dimension20\":\"Published\"}];\\n//--><!]]>\\n</script>\\n<script type=\"text/javascript\" src=\"https://reliefweb.int/sites/reliefweb.int/files/js/js_XrqcpvvPhg0WxVkbSMOMsfvZl-yiEUTtzvWuj4xvZpI.js\"></script>\\n<script type=\"text/javascript\" src=\"https://reliefweb.int/sites/reliefweb.int/files/js/js_vDrW3Ry_4gtSYaLsh77lWhWjIC6ml2QNkcfvfP5CVFs.js\"></script>\\n<script type=\"text/javascript\" src=\"https://reliefweb.int/sites/reliefweb.int/files/js/js_55eTDjdhBe9wtQZGhLdkOmjD40J90OJGljYUAVfA3KQ.js\"></script>\\n<script type=\"text/javascript\">\\n<!--//--><![CDATA[//><!--\\njQuery.extend(Drupal.settings, {\"basePath\":\"\\\\/\",\"pathPrefix\":\"\",\"ajaxPageState\":{\"theme\":\"kobe\",\"theme_token\":\"k8b3YVBFU3NTwT0sBVYMXDiTYsb9nIQ58zlqMjuienA\",\"js\":{\"0\":1,\"public:\\\\/\\\\/google_tag\\\\/google_tag.script.js\":1,\"misc\\\\/jquery.js\":1,\"misc\\\\/jquery.once.js\":1,\"misc\\\\/drupal.js\":1,\"sites\\\\/all\\\\/themes\\\\/rubik\\\\/js\\\\/rubik.js\":1,\"profiles\\\\/reliefweb\\\\/themes\\\\/kobe\\\\/js\\\\/kobe.js\":1},\"css\":{\"sites\\\\/all\\\\/modules\\\\/date\\\\/date_api\\\\/date.css\":1,\"modules\\\\/field\\\\/theme\\\\/field.css\":1,\"sites\\\\/all\\\\/modules\\\\/logintoboggan\\\\/logintoboggan.css\":1,\"sites\\\\/all\\\\/modules\\\\/ctools\\\\/css\\\\/ctools.css\":1,\"profiles\\\\/reliefweb\\\\/themes\\\\/kobe\\\\/style-ie.css\":1,\"profiles\\\\/reliefweb\\\\/themes\\\\/kobe\\\\/style-ie7.css\":1,\"sites\\\\/all\\\\/themes\\\\/tao\\\\/reset.css\":1,\"sites\\\\/all\\\\/themes\\\\/tao\\\\/base.css\":1,\"sites\\\\/all\\\\/themes\\\\/tao\\\\/drupal.css\":1,\"sites\\\\/all\\\\/themes\\\\/rubik\\\\/core.css\":1,\"sites\\\\/all\\\\/themes\\\\/rubik\\\\/icons.css\":1,\"profiles\\\\/reliefweb\\\\/themes\\\\/kobe\\\\/style.css\":1,\"profiles\\\\/reliefweb\\\\/themes\\\\/kobe\\\\/fonts\\\\/rw-icomoon\\\\/rw-icomoon-style.css\":1,\"profiles\\\\/reliefweb\\\\/themes\\\\/kobe\\\\/style-print.css\":1}},\"jcarousel\":{\"ajaxPath\":\"\\\\/jcarousel\\\\/ajax\\\\/views\"}});\\n//--><!]]>\\n</script>\\n</head>\\n<body class=\"html not-front not-logged-in one-sidebar sidebar-first page-node page-node- page-node-2404849 node-type-report tao rubik layout-default\" >\\n  <div id=\"skip-link\">\\n    <a href=\"#main-content\" class=\"element-invisible element-focusable\">Skip to main content</a>\\n  </div>\\n    <div class=\"region region-page-top\">\\n    <noscript><iframe src=\"https://www.googletagmanager.com/ns.html?id=GTM-W735ZR\" height=\"0\" width=\"0\" style=\"display:none;visibility:hidden\"></iframe></noscript>  </div>\\n  <!-- Header -->\\n<div class=\"header\">\\n  <div class=\"content\">\\n    <!-- Tab links -->\\n    <div class=\"navigation-global\">\\n      <ul>\\n        <li class=\"active\"><a href=\"/\" class=\"rw\"></a></li>\\n        <li><a href=\"https://labs.reliefweb.int\" class=\"labs\">Labs</a></li>\\n        <li class=\"\"><a href=\"/blog\" class=\"blog\">Blog</a></li>\\n        <li><a href=\"https://m.reliefweb.int/report/2404849\" class=\"mobile\">Mobile</a></li>\\n      </ul>\\n    </div>\\n\\n    <!-- Social icons -->\\n     <div class=\"social-media-icons\">\\n  <a href=\"https://www.facebook.com/reliefweb\" title=\"ReliefWeb Facebook\"><svg xmlns=\"http://www.w3.org/2000/svg\" width=\"100\" height=\"100\" viewBox=\"0 0 32 32\"><path d=\"M19.47 16.57l-2.25 0 0 8.03 -3.33 0 0-8.02 -1.59 0 0-2.83 1.59 0 0-1.84c0-1.31 0.62-3.37 3.37-3.37l2.47 0.01 0 2.75 -1.79 0c-0.29 0-0.71 0.15-0.71 0.77l0 1.67 2.54 0 -0.29 2.84Z\"/></svg></a>\\n  <a href=\"https://twitter.com/reliefweb\" title=\"ReliefWeb Twitter\"><svg xmlns=\"http://www.w3.org/2000/svg\" width=\"100\" height=\"100\" viewBox=\"0 0 32 32\"><path d=\"M22.44 11.57c-0.52 0.32-1.09 0.55-1.71 0.67 -0.49-0.53-1.19-0.87-1.96-0.87 -1.48 0-2.69 1.23-2.69 2.76 0 0.22 0.02 0.43 0.07 0.63 -2.23-0.11-4.21-1.21-5.54-2.88 -0.23 0.41-0.36 0.88-0.36 1.39 0 0.96 0.48 1.8 1.2 2.29 -0.44-0.01-0.85-0.14-1.22-0.34l0 0.03c0 1.34 0.93 2.45 2.16 2.7 -0.22 0.07-0.46 0.1-0.71 0.1 -0.17 0-0.34-0.02-0.51-0.05 0.34 1.1 1.33 1.89 2.51 1.91 -0.92 0.74-2.08 1.18-3.34 1.18 -0.22 0-0.43-0.01-0.64-0.04 1.19 0.78 2.6 1.24 4.12 1.24 4.95 0 7.65-4.2 7.65-7.84 0-0.12 0-0.24-0.01-0.36 0.53-0.39 0.98-0.87 1.34-1.43 -0.48 0.22-1 0.37-1.54 0.43 0.56-0.34 0.98-0.88 1.18-1.52\"/></svg></a>\\n  <a href=\"https://www.linkedin.com/company/reliefweb\" title=\"ReliefWeb LinkedIn\"><svg xmlns=\"http://www.w3.org/2000/svg\" width=\"100\" height=\"100\" viewBox=\"0 0 32 32\"><path d=\"M16.68 14.03l0 1.17c0.15-0.51 0.97-1.25 2.28-1.25 1.62 0 2.9 1.08 2.9 3.39l0 4.16 -2.59 0 0-3.87c0-1.01-0.41-1.7-1.3-1.7 -0.68 0-1.06 0.47-1.24 0.92 -0.07 0.16-0.05 0.39-0.05 0.61l0 4.05 -2.57 0c0 0 0.03-6.85 0-7.48l2.57 0ZM10.43 14.03l2.29 0 0 7.48 -2.29 0 0-7.48ZM11.53 10.5c-0.84 0-1.4 0.56-1.4 1.3 0 0.73 0.54 1.3 1.36 1.3l0.02 0c0.86 0 1.39-0.57 1.39-1.3 -0.02-0.74-0.53-1.3-1.38-1.3Z\"/></svg></a>\\n  <a href=\"https://www.youtube.com/channel/UC4RQutFVU_1OSNtOzGyBfGw\" title=\"ReliefWeb Youtube\"><svg xmlns=\"http://www.w3.org/2000/svg\" width=\"100\" height=\"100\" viewBox=\"0 0 32 32\"><path d=\"M14 12.97l0 6.04c1.69-1.02 3.34-2 5.03-3.02l-5.03-3.02ZM24 14.67l0 2.63c-0.03 0.28-0.04 0.56-0.08 0.84 -0.11 0.75-0.18 1.5-0.36 2.23 -0.19 0.76-0.75 1.25-1.53 1.34 -1.04 0.12-2.1 0.17-3.15 0.2 -2.8 0.09-5.61 0.08-8.41-0.14 -1.27-0.1-1.9-0.61-2.15-1.86 -0.16-0.79-0.21-1.62-0.26-2.43 -0.09-1.72-0.07-3.43 0.18-5.14 0.19-1.23 0.76-2.12 2.31-2.17 1.3-0.04 2.6-0.16 3.9-0.14 2.46 0.02 4.92 0.09 7.38 0.18 0.84 0.03 1.45 0.51 1.72 1.32 0.16 0.47 0.24 0.96 0.31 1.45 0.08 0.56 0.1 1.12 0.15 1.69\"/></svg></a>\\n</div>\\n\\n    <!-- Global links -->\\n    <div class=\"navigation-global-contact\">\\n      <ul>\\n        <li><a href=\"/about\">About Us</a></li>\\n        <li><a href=\"/help\">Help</a></li>\\n        <li>\\n          <ul class=\"menu\"><li class=\"first last leaf\"><a href=\"/user/login\" title=\"Login to ReliefWeb.\">Login / Register</a></li>\\n</ul>        </li>\\n      </ul>\\n    </div>\\n  </div>\\n</div>\\n\\n<!-- Content -->\\n<div class=\"content\">\\n  <!-- Navigation - Top -->\\n    <div class=\" navigation-section navigation-section-header clearfix\">\\n    <div class=\"navigation-section-main-menu\">\\n      <ul class=\"menu\"><li class=\"first collapsed\"><a href=\"/\" title=\"\">Home</a></li>\\n<li class=\"leaf active-trail\"><a href=\"/updates\" title=\"Updates\" class=\"active-trail active\">Updates</a></li>\\n<li class=\"leaf\"><a href=\"/countries\" title=\"Countries\">Countries</a></li>\\n<li class=\"leaf\"><a href=\"/disasters\" title=\"Disasters\">Disasters</a></li>\\n<li class=\"leaf\"><a href=\"/topics\" title=\"\">Topics</a></li>\\n<li class=\"leaf\"><a href=\"/organizations\" title=\"\">Organizations</a></li>\\n<li class=\"leaf\"><a href=\"/jobs\" title=\"Jobs\">Jobs</a></li>\\n<li class=\"last leaf\"><a href=\"/training\" title=\"Training\">Training</a></li>\\n</ul>    </div>\\n    <div class=\"navigation-section-search searchbox\">\\n      <form action=\"/search/results/\">\\n        <input type=\"text\" title=\"Search\" placeholder=\"Search ReliefWeb\" class=\"search\" name=\"search\" />\\n        <input type=\"submit\" class=\"search-button\" value=\"Search\" />\\n      </form>\\n    </div>\\n  </div>\\n  \\n  <!-- Messages -->\\n  \\n\\n  <!-- Blog headers -->\\n    \\n  <!-- Blue header - Local tasks or has a subtitle -->\\n  \\n  <!-- Page -->\\n  <div id=\\'page\\' class=\\'outer\\'><div id=\\'main-content\\' class=\\'limiter clearfix\\'>\\n\\n    \\n    <!-- Headers -->\\n    \\n    <!-- Help -->\\n    \\n  <div class=\\'page-body clearfix\\'>\\n    <div id=\\'content_top\\' class=\\'page-content_top clearfix\\'>\\n          </div>\\n    <div id=\\'content\\' class=\\'page-content clearfix\\'>\\n      <div class=\"node node-report node-full node-page\"  id=\"node-2404849\">\\n<div class=\"node-meta clearfix\"><div class=\"submitted\">08 Jan 2018</div><ul class=\"social-media-links\"><li class=\"social-media-link facebook first\"><a href=\"https://www.facebook.com/sharer.php?u=https%3A//reliefweb.int/report/afghanistan/more-200-displaced-families-receive-cash-assistance-laghman-province%3Futm_medium%3Dsocial%26utm_campaign%3Dshared%26utm_source%3Dfacebook.com&amp;t=More%20than%20200%20Displaced%20families%20Receive%20Cash%20Assistance%20in%20Laghman%20Province\" rel=\"nofollow noopener noreferrer\" target=\"_blank\" title=\"Share this on Facebook\"><svg xmlns=\"http://www.w3.org/2000/svg\" width=\"100\" height=\"100\" viewBox=\"0 0 32 32\"><path d=\"M19.47 16.57l-2.25 0 0 8.03 -3.33 0 0-8.02 -1.59 0 0-2.83 1.59 0 0-1.84c0-1.31 0.62-3.37 3.37-3.37l2.47 0.01 0 2.75 -1.79 0c-0.29 0-0.71 0.15-0.71 0.77l0 1.67 2.54 0 -0.29 2.84Z\"/></svg></a></li>\\n<li class=\"social-media-link twitter\"><a href=\"https://twitter.com/share?url=https%3A//reliefweb.int/report/afghanistan/more-200-displaced-families-receive-cash-assistance-laghman-province%3Futm_medium%3Dsocial%26utm_campaign%3Dshared%26utm_source%3Dtwitter.com&amp;text=More%20than%20200%20Displaced%20families%20Receive%20Cash%20Assistance%20in%20Laghman%20Province&amp;via=reliefweb\" rel=\"nofollow noopener noreferrer\" target=\"_blank\" title=\"Share this on Twitter\"><svg xmlns=\"http://www.w3.org/2000/svg\" width=\"100\" height=\"100\" viewBox=\"0 0 32 32\"><path d=\"M22.44 11.57c-0.52 0.32-1.09 0.55-1.71 0.67 -0.49-0.53-1.19-0.87-1.96-0.87 -1.48 0-2.69 1.23-2.69 2.76 0 0.22 0.02 0.43 0.07 0.63 -2.23-0.11-4.21-1.21-5.54-2.88 -0.23 0.41-0.36 0.88-0.36 1.39 0 0.96 0.48 1.8 1.2 2.29 -0.44-0.01-0.85-0.14-1.22-0.34l0 0.03c0 1.34 0.93 2.45 2.16 2.7 -0.22 0.07-0.46 0.1-0.71 0.1 -0.17 0-0.34-0.02-0.51-0.05 0.34 1.1 1.33 1.89 2.51 1.91 -0.92 0.74-2.08 1.18-3.34 1.18 -0.22 0-0.43-0.01-0.64-0.04 1.19 0.78 2.6 1.24 4.12 1.24 4.95 0 7.65-4.2 7.65-7.84 0-0.12 0-0.24-0.01-0.36 0.53-0.39 0.98-0.87 1.34-1.43 -0.48 0.22-1 0.37-1.54 0.43 0.56-0.34 0.98-0.88 1.18-1.52\"/></svg></a></li>\\n<li class=\"social-media-link google-plus\"><a href=\"https://plus.google.com/share?url=https%3A//reliefweb.int/report/afghanistan/more-200-displaced-families-receive-cash-assistance-laghman-province%3Futm_medium%3Dsocial%26utm_campaign%3Dshared%26utm_source%3Dplus.google.com\" rel=\"nofollow noopener noreferrer\" target=\"_blank\" title=\"Share this on Google+\"><svg xmlns=\"http://www.w3.org/2000/svg\" width=\"100\" height=\"100\" viewBox=\"0 0 32 32\"><path d=\"M18.27 14.67c0.36 2.55-0.72 6.38-5.11 6.38 -2.94 0-5.32-2.38-5.32-5.33 0-2.94 2.38-5.33 5.32-5.33 1.38 0 2.63 0.53 3.58 1.39 -1.11 1.05-1.08 1.12-1.51 1.55 -0.55-0.45-1.14-0.78-2.06-0.78 -1.74 0-3.11 1.42-3.11 3.16 0 1.75 1.36 3.16 3.11 3.16 1.72 0 2.42-0.74 2.87-2.11 -0.83 0-2.87 0-2.87 0l0-2.11 5.11 0ZM22.75 12.93l0 1.85 1.84 0 0 1.32 -1.84 0 0 1.9 -1.32 0 0-1.9 -1.89 0 0-1.32 1.9 0 0-1.85 1.32 0Z\"/></svg></a></li>\\n<li class=\"social-media-link linkedin\"><a href=\"https://www.linkedin.com/shareArticle?mini=true&amp;url=https%3A//reliefweb.int/report/afghanistan/more-200-displaced-families-receive-cash-assistance-laghman-province%3Futm_medium%3Dsocial%26utm_campaign%3Dshared%26utm_source%3Dlinkedin.com&amp;title=More%20than%20200%20Displaced%20families%20Receive%20Cash%20Assistance%20in%20Laghman%20Province&amp;summary=Directorate%20of%20Refugees%20and%20Repatriations%28DoRR%29%20of%20Laghman%20province%20with%20co-operation%20of%20DRC%20and%20CWSA%20have%20distributed%20for%20203%20displaced%20families%20which%20displaced%20from%20insecure%20places%20of%20Alingar%2C%20Kanda%20gul%2C%20districts%20and%20Khogiani%20district%20of%20Nangarhar%20province%20and%20returnees%20from%20Pakistan%20have%20placed%20in%20the%20central%20of%20this%20province.%0A%0AThursday%20January%204%2C%202018%20of%20the%20current%20year%20for%20143%20displaced%20families%20distributed%2018000Af%20by%20DRC%20and%20for%2060%20displaced%20families%20distributed%20100%24%20dolor%20by%20CWSA.&amp;source=ReliefWeb\" rel=\"nofollow noopener noreferrer\" target=\"_blank\" title=\"Post this on LinkedIn\"><svg xmlns=\"http://www.w3.org/2000/svg\" width=\"100\" height=\"100\" viewBox=\"0 0 32 32\"><path d=\"M16.68 14.03l0 1.17c0.15-0.51 0.97-1.25 2.28-1.25 1.62 0 2.9 1.08 2.9 3.39l0 4.16 -2.59 0 0-3.87c0-1.01-0.41-1.7-1.3-1.7 -0.68 0-1.06 0.47-1.24 0.92 -0.07 0.16-0.05 0.39-0.05 0.61l0 4.05 -2.57 0c0 0 0.03-6.85 0-7.48l2.57 0ZM10.43 14.03l2.29 0 0 7.48 -2.29 0 0-7.48ZM11.53 10.5c-0.84 0-1.4 0.56-1.4 1.3 0 0.73 0.54 1.3 1.36 1.3l0.02 0c0.86 0 1.39-0.57 1.39-1.3 -0.02-0.74-0.53-1.3-1.38-1.3Z\"/></svg></a></li>\\n<li class=\"social-media-link email last\"><a href=\"mailto:?subject=%5BReliefWeb%20report%5D%20More%20than%20200%20Displaced%20families%20Receive%20Cash%20Assistance%20in%20Laghman%20Province&amp;body=Directorate%20of%20Refugees%20and%20Repatriations%28DoRR%29%20of%20Laghman%20province%20with%20co-operation%20of%20DRC%20and%20CWSA%20have%20distributed%20for%20203%20displaced%20families%20which%20displaced%20from%20insecure%20places%20of%20Alingar%2C%20Kanda%20gul%2C%20districts%20and%20Khogiani%20district%20of%20Nangarhar%20province%20and%20returnees%20from%20Pakistan%20have%20placed%20in%20the%20central%20of%20this%20province.%0A%0AThursday%20January%204%2C%202018%20of%20the%20current%20year%20for%20143%20displaced%20families%20distributed%2018000Af%20by%20DRC%20and%20for%2060%20displaced%20families%20distributed%20100%24%20dolor%20by%20CWSA.%0A%0ARead%20this%20in%20full%20on%20ReliefWeb%3A%20https%3A//reliefweb.int/report/afghanistan/more-200-displaced-families-receive-cash-assistance-laghman-province%3Futm_medium%3Demail%26utm_source%3Duser%26utm_campaign%3Dshared&amp;to=\" rel=\"nofollow noopener noreferrer\" target=\"_blank\" title=\"Forward this page (opens email client)\"><svg xmlns=\"http://www.w3.org/2000/svg\" width=\"100\" height=\"100\" viewBox=\"0 0 32 32\"><path d=\"M8.7 17.9l0-4.6 4.08 2.45 -4.08 2.15ZM8.7 19.5l5.51-2.9 1.69 1.01 0.14 0.05 1.76-1.06 5.51 2.9 0 0.42 -14.6 0 0-0.42ZM9.65 12.08l12.7 0 -6.35 3.81 -6.35-3.81ZM23.3 13.3l0 4.6 -4.08-2.15 4.08-2.45ZM7.36 21.27l17.28 0 0-10.53 -17.28 0 0 10.53Z\"/></svg></a></li>\\n</ul></div>\\n<div class=\"node-links clearfix\"></div>\\n<h1 class=\"node-title clearfix\">More than 200 Displaced families Receive Cash Assistance in Laghman Province</h1>\\n<div class=\"node-info clearfix\"><div class=\"field-content-format\"><div class=\"content-format report\">Report</div></div><span class=\"separator\">from</span><span class=\"field field-source\">\\n<a href=\"/organization/govt-afghanistan\">Government of Afghanistan</a></span>\\n<div class=\"extra-info\"><span class=\"published-label\">Published on</span><span class=\"field field-report-date\">\\n<span class=\"date-display-single\">06 Jan 2018</span></span>\\n<span class=\"separator\">&mdash;</span><span class=\"field field-origin-notes\">\\n<span class=\"icon\"></span><a href=\"http://morr.gov.af/en/news/70008\">View Original</a></span>\\n</div></div>\\n<div class=\"node-content clearfix\"><div class=\"field body\">\\n<p>Directorate of Refugees and Repatriations(DoRR) of Laghman province with co-operation of DRC and CWSA have distributed for 203 displaced families which displaced from insecure places of Alingar, Kanda gul, districts and Khogiani district of Nangarhar province and returnees from Pakistan have placed in the central of this province.</p>\\n\\n<p>Thursday January 4, 2018 of the current year for 143 displaced families distributed 18000Af by DRC and for 60 displaced families distributed 100$ dolor by CWSA.</p></div>\\n</div>\\n</div>\\n    </div>\\n              <div id=\\'sidebar-first\\' class=\\'sidebar clearfix\\'>  <div class=\"region region-sidebar-first\">\\n    \\n<div class=\\'block block-reliefweb-taxonomy block-delta-report-countries clearfix\\'  id=\"block-reliefweb-taxonomy-report-countries\">\\n  \\n  \\n  \\n  \\n      <div  class=\"block-content clearfix\"><div class=\"active-header status-current\"><h3>Ongoing</h3></div>\\n<div class=\"primary-country\"><div class=\"field field-term-image\">\\n<img src=\"https://reliefweb.int/sites/reliefweb.int/files/country-icons/afg.png\" width=\"40\" height=\"40\" alt=\"\" /></div>\\n<div class=\"country status-current\"><h4>Primary country</h4><a href=\"/country/afg\">Afghanistan</a></div></div></div>\\n  \\n  </div>\\n\\n\\n<div class=\\'block block-reliefweb-node block-delta-node-fields clearfix\\'  id=\"block-reliefweb-node-node-fields\">\\n  \\n  \\n  \\n  \\n      <div  class=\"block-content clearfix\"><ul class=\"fields\"><li class=\"field content-format\"><h4>Content format:</h4><ul><li><a href=\"/updates?format=8\">News and Press Release</a></li></ul></li><li class=\"field language\"><h4>Language:</h4><ul><li><a href=\"/updates?language=267\">English</a></li></ul></li><li class=\"field theme\"><h4>Theme:</h4><ul><li><a href=\"/updates?theme=4603\">Shelter and Non-Food Items</a></li></ul></li><li class=\"field vulnerable-groups\"><h4>Vulnerable groups:</h4><ul><li><a href=\"/updates?vulnerable_groups=6872\">IDPs</a></li></ul></li></ul></div>\\n  \\n  </div>\\n\\n  </div>\\n</div>\\n        <div id=\\'content_bottom\\' class=\\'page-content_bottom clearfix\\'>\\n          </div>\\n  </div>\\n\\n  </div></div>\\n  <!-- End Page -->\\n\\n  <!-- Navigation - Bottom -->\\n    <div class=\"navigation-section navigation-section-footer clearfix\">\\n    <div class=\"navigation-section-main-menu\">\\n      <ul class=\"menu\"><li class=\"first collapsed\"><a href=\"/\" title=\"\">Home</a></li>\\n<li class=\"leaf active-trail\"><a href=\"/updates\" title=\"Updates\" class=\"active-trail active\">Updates</a></li>\\n<li class=\"leaf\"><a href=\"/countries\" title=\"Countries\">Countries</a></li>\\n<li class=\"leaf\"><a href=\"/disasters\" title=\"Disasters\">Disasters</a></li>\\n<li class=\"leaf\"><a href=\"/topics\" title=\"\">Topics</a></li>\\n<li class=\"leaf\"><a href=\"/organizations\" title=\"\">Organizations</a></li>\\n<li class=\"leaf\"><a href=\"/jobs\" title=\"Jobs\">Jobs</a></li>\\n<li class=\"last leaf\"><a href=\"/training\" title=\"Training\">Training</a></li>\\n</ul>    </div>\\n\\n    <div class=\"navigation-section-contact\">\\n      <ul>\\n          <li><a href=\"/terms-conditions\">Terms &amp; Conditions</a></li>\\n      </ul>\\n    </div>\\n  </div>\\n  </div>\\n<!-- End Content -->\\n\\n<div class=\"footer\">\\n  <div class=\"content\">\\n    <!-- First row block -->\\n    <div class=\"row row-top clearfix\">\\n      <div class=\"column column-description footer-top-left\">\\n                  <h3 class=\"logo-footer\"><a href=\"/\" class=\"logo\">ReliefWeb</a></h3>\\n          <h4>Informing humanitarians worldwide.</h4>\\n          <p class=\"big\">A service provided by\\n          <a href=\"https://www.unocha.org\" class=\"logo-ocha\"></a></p>\\n          <p class=\"big\">ReliefWeb has been the leading online source for reliable and timely humanitarian information on global crises and disasters since 1996.<br /><a href=\"/about\">Learn more about ReliefWeb</a></p>\\n              </div>\\n\\n      <div class=\"column column-blog footer-top-middle\">\\n                  <a href=\"/blog\" class=\"footer-block__heading\"><img src=\"https://reliefweb.int/profiles/reliefweb/themes/kobe/images/blog-title.png\" width=\"140\" alt=\"The ReliefWeb blog\" /></a>\\n<h2 class=\"footer-block__sub-heading footer-block__sub-heading--blog\"><a href=\"/blogpost/going-mobile-version-2-tell-us-what-you-think\">Going mobile, version 2: Tell us what you think!</a></h2>\\n<p>We have just rebuilt the mobile version of our website. \\nYou may remember that a while back we launched ReliefWeb Lite in a bid to better meet the needs of users in low-bandwidth countries.</p>\\n<p>\\n<a href=\"/blog\" class=\"footer-block__highlight-link\">Visit the blog</a>\\n</p>              </div>\\n\\n      <div class=\"column column-social footer-top-right\">\\n                  <h2 class=\"footer-block__heading\">Connect With ReliefWeb</h2>\\n<form action=\"https://reliefweb.us5.list-manage.com/subscribe/post?u=bbba5e49a58c86ed484b5a084&amp;id=45f2ec85e2\" method=\"post\" id=\"mc-embedded-subscribe-form\" name=\"mc-embedded-subscribe-form\" class=\"validate\" target=\"_blank\" novalidate>\\n<label for=\"mce-EMAIL\" class=\"footer-block__sub-heading\">Receive news about us</label>\\n<input type=\"text\" value=\"\" name=\"EMAIL\" class=\"email\" id=\"mce-EMAIL\" placeholder=\"Email address\" required>\\n<input type=\"submit\" value=\"Subscribe\" name=\"subscribe\" id=\"mc-embedded-subscribe\" class=\"btn btn-default\">\\n</form>        \\n         <div class=\"social-media-icons\">\\n  <a href=\"https://www.facebook.com/reliefweb\" title=\"ReliefWeb Facebook\"><svg xmlns=\"http://www.w3.org/2000/svg\" width=\"100\" height=\"100\" viewBox=\"0 0 32 32\"><path d=\"M19.47 16.57l-2.25 0 0 8.03 -3.33 0 0-8.02 -1.59 0 0-2.83 1.59 0 0-1.84c0-1.31 0.62-3.37 3.37-3.37l2.47 0.01 0 2.75 -1.79 0c-0.29 0-0.71 0.15-0.71 0.77l0 1.67 2.54 0 -0.29 2.84Z\"/></svg></a>\\n  <a href=\"https://twitter.com/reliefweb\" title=\"ReliefWeb Twitter\"><svg xmlns=\"http://www.w3.org/2000/svg\" width=\"100\" height=\"100\" viewBox=\"0 0 32 32\"><path d=\"M22.44 11.57c-0.52 0.32-1.09 0.55-1.71 0.67 -0.49-0.53-1.19-0.87-1.96-0.87 -1.48 0-2.69 1.23-2.69 2.76 0 0.22 0.02 0.43 0.07 0.63 -2.23-0.11-4.21-1.21-5.54-2.88 -0.23 0.41-0.36 0.88-0.36 1.39 0 0.96 0.48 1.8 1.2 2.29 -0.44-0.01-0.85-0.14-1.22-0.34l0 0.03c0 1.34 0.93 2.45 2.16 2.7 -0.22 0.07-0.46 0.1-0.71 0.1 -0.17 0-0.34-0.02-0.51-0.05 0.34 1.1 1.33 1.89 2.51 1.91 -0.92 0.74-2.08 1.18-3.34 1.18 -0.22 0-0.43-0.01-0.64-0.04 1.19 0.78 2.6 1.24 4.12 1.24 4.95 0 7.65-4.2 7.65-7.84 0-0.12 0-0.24-0.01-0.36 0.53-0.39 0.98-0.87 1.34-1.43 -0.48 0.22-1 0.37-1.54 0.43 0.56-0.34 0.98-0.88 1.18-1.52\"/></svg></a>\\n  <a href=\"https://www.linkedin.com/company/reliefweb\" title=\"ReliefWeb LinkedIn\"><svg xmlns=\"http://www.w3.org/2000/svg\" width=\"100\" height=\"100\" viewBox=\"0 0 32 32\"><path d=\"M16.68 14.03l0 1.17c0.15-0.51 0.97-1.25 2.28-1.25 1.62 0 2.9 1.08 2.9 3.39l0 4.16 -2.59 0 0-3.87c0-1.01-0.41-1.7-1.3-1.7 -0.68 0-1.06 0.47-1.24 0.92 -0.07 0.16-0.05 0.39-0.05 0.61l0 4.05 -2.57 0c0 0 0.03-6.85 0-7.48l2.57 0ZM10.43 14.03l2.29 0 0 7.48 -2.29 0 0-7.48ZM11.53 10.5c-0.84 0-1.4 0.56-1.4 1.3 0 0.73 0.54 1.3 1.36 1.3l0.02 0c0.86 0 1.39-0.57 1.39-1.3 -0.02-0.74-0.53-1.3-1.38-1.3Z\"/></svg></a>\\n  <a href=\"https://www.youtube.com/channel/UC4RQutFVU_1OSNtOzGyBfGw\" title=\"ReliefWeb Youtube\"><svg xmlns=\"http://www.w3.org/2000/svg\" width=\"100\" height=\"100\" viewBox=\"0 0 32 32\"><path d=\"M14 12.97l0 6.04c1.69-1.02 3.34-2 5.03-3.02l-5.03-3.02ZM24 14.67l0 2.63c-0.03 0.28-0.04 0.56-0.08 0.84 -0.11 0.75-0.18 1.5-0.36 2.23 -0.19 0.76-0.75 1.25-1.53 1.34 -1.04 0.12-2.1 0.17-3.15 0.2 -2.8 0.09-5.61 0.08-8.41-0.14 -1.27-0.1-1.9-0.61-2.15-1.86 -0.16-0.79-0.21-1.62-0.26-2.43 -0.09-1.72-0.07-3.43 0.18-5.14 0.19-1.23 0.76-2.12 2.31-2.17 1.3-0.04 2.6-0.16 3.9-0.14 2.46 0.02 4.92 0.09 7.38 0.18 0.84 0.03 1.45 0.51 1.72 1.32 0.16 0.47 0.24 0.96 0.31 1.45 0.08 0.56 0.1 1.12 0.15 1.69\"/></svg></a>\\n</div>\\n      </div>\\n    </div>\\n\\n    <!-- Second row block -->\\n    <div class=\"row row-bottom clearfix\">\\n      <div class=\"column column-partners footer-bottom-left\">\\n                  <h3>Related Sites</h3>\\n\\n          <div class=\"partner-link\"><a href=\"https://www.humanitarianresponse.info/\" title=\"Humanitarian Response\" class=\"related logo-humanitarianresponse\" target=\"_blank\"></a></div>\\n          <div class=\"partner-link\"><a href=\"https://data.humdata.org/\" title=\"Humanitarian Data Exchange\" class=\"related logo-hdx\" target=\"_blank\"></a></div>\\n          <div class=\"partner-link\"><a href=\"https://fts.unocha.org\" title=\"Financial Tracking Service\" class=\"related logo-fts\" target=\"_blank\"></a></div>\\n          <div class=\"partner-link\"><a href=\"https://humanitarian.id\" title=\"Humanitarian ID\" class=\"related logo-hid\" target=\"_blank\"></a></div>\\n          <div class=\"partner-link\"><a href=\"http://www.gdacs.org\" title=\"Global Disaster Alert and Coordination System\" class=\"related logo-gdacs\" target=\"_blank\"></a></div>\\n          <div class=\"partner-link\"><a href=\"https://redhum.org\" title=\"Red de Informaci\\xc3\\xb3n Humanitaria para Am\\xc3\\xa9rica Latina y el Caribe\" class=\"related logo-redhum\" target=\"_blank\"></a></div>\\n          <div class=\"partner-link\"><a href=\"http://www.inform-index.org\" title=\"Inform Index\" class=\"related logo-inform\" target=\"_blank\"></a></div>\\n          <div class=\"partner-link\"><a href=\"https://cerf.un.org\" title=\"Central Emergency Response Fund\" class=\"related logo-cerf\" target=\"_blank\"></a></div>\\n          <div class=\"partner-link\"><a href=\"https://agendaforhumanity.org\" title=\"Agenda for Humanity\" class=\"related logo-afh\" target=\"_blank\"></a></div>\\n          <div class=\"partner-link\"><a href=\"https://interagencystandingcommittee.org\" title=\"Inter-Agency Standing Committee\" class=\"related logo-iasc\" target=\"_blank\"></a></div>\\n          <div class=\"partner-link\"><a href=\"https://vosocc.unocha.org\" title=\"Virtual OSOCC - real-time disaster coordination\" class=\"related logo-vosocc\" target=\"_blank\"></a></div>\\n          <div class=\"partner-link\"><a href=\"https://www.insarag.org\" title=\"International Search and Rescue Advisory Group\" class=\"related logo-insarag\" target=\"_blank\"></a></div>\\n          <div class=\"partner-link\"><a href=\"https://www.preventionweb.net/\" title=\"PreventionWeb\" class=\"related logo-pw\" target=\"_blank\"></a></div>\\n          <div class=\"partner-link\"><a href=\"https://www.kobotoolbox.org/\" title=\"Kobo Toolbox\" class=\"related logo-kobo\" target=\"_blank\"></a></div>\\n              </div>\\n\\n      <div class=\"column column-submit-content footer-bottom-middle\">\\n                  <h3>Submit Content</h3>\\n          <p>Share information through ReliefWeb to better inform humanitarians worldwide.</p>\\n          <a href=\"/share\" class=\"button\">How to submit content</a>\\n              </div>\\n\\n      <div class=\"column column-tools footer-bottom-right\">\\n                  <h3>Tools</h3>\\n          <ul>\\n            <li><a href=\"/help/api\">API</a> - Real-time data stream to power next-generation apps.</li>\\n            <li><a href=\"/location-maps\">Location Maps</a> - Country maps for your reports and presentations.</li>\\n            <li><a href=\"/report/world/world-humanitarian-and-country-icons-2012\">Humanitarian Icons</a> - Ready-to-use symbols and icons. Free download.</li>\\n            <li><a href=\"/rss\">RSS</a> - Subscribe to information finely tuned to your needs.</li>\\n            <li><a href=\"/faq\">Frequently Asked Questions</a> - Get answers to common problems and learn more about ReliefWeb.</li>\\n            <li><a href=\"/contact\">Contact Us</a> - Ask questions and suggest improvements.</li>\\n          </ul>\\n              </div>\\n    </div>\\n  </div>\\n</div>\\n  </body>\\n</html>\\n'"
      ]
     },
     "execution_count": 11,
     "metadata": {},
     "output_type": "execute_result"
    }
   ],
   "source": [
    "# download article page and get content\n",
    "page = requests.get(url)\n",
    "content = page.content\n",
    "content"
   ]
  },
  {
   "cell_type": "code",
   "execution_count": 14,
   "metadata": {},
   "outputs": [
    {
     "data": {
      "text/plain": [
       "200"
      ]
     },
     "execution_count": 14,
     "metadata": {},
     "output_type": "execute_result"
    }
   ],
   "source": []
  },
  {
   "cell_type": "code",
   "execution_count": 10,
   "metadata": {},
   "outputs": [],
   "source": [
    "# convert to BeautifulSoup\n",
    "soup = BeautifulSoup(content, \"lxml\")"
   ]
  },
  {
   "cell_type": "code",
   "execution_count": 31,
   "metadata": {},
   "outputs": [
    {
     "name": "stdout",
     "output_type": "stream",
     "text": [
      "  Andy asdf  \n",
      "Andy asdf\n"
     ]
    }
   ],
   "source": [
    "# quick aside to demonstrate \"strip\"\n",
    "txt = \"  Andy asdf  \"\n",
    "print(txt)\n",
    "print(txt.strip())"
   ]
  },
  {
   "cell_type": "code",
   "execution_count": 28,
   "metadata": {},
   "outputs": [
    {
     "name": "stdout",
     "output_type": "stream",
     "text": [
      "Directorate of Refugees and Repatriations(DoRR) of Laghman province with co-operation of DRC and CWSA have distributed for 203 displaced families which displaced from insecure places of Alingar, Kanda gul, districts and Khogiani district of Nangarhar province and returnees from Pakistan have placed in the central of this province.\n",
      "Thursday January 4, 2018 of the current year for 143 displaced families distributed 18000Af by DRC and for 60 displaced families distributed 100$ dolor by CWSA.\n"
     ]
    }
   ],
   "source": [
    "# extract body text from page HTML (we'll do this together)\n",
    "body = soup.find(\"div\", {\"class\" : \"field body\"})\n",
    "#body.text\n",
    "print(body.text.strip())"
   ]
  },
  {
   "cell_type": "code",
   "execution_count": 22,
   "metadata": {},
   "outputs": [
    {
     "name": "stdout",
     "output_type": "stream",
     "text": [
      "More than 200 Displaced families Receive Cash Assistance in Laghman Province\n"
     ]
    },
    {
     "data": {
      "text/plain": [
       "<h1 class=\"node-title clearfix\">More than 200 Displaced families Receive Cash Assistance in Laghman Province</h1>"
      ]
     },
     "execution_count": 22,
     "metadata": {},
     "output_type": "execute_result"
    }
   ],
   "source": [
    "# extract title from page HTML\n",
    "title = soup.find(\"h1\", {\"class\" : \"node-title clearfix\"})\n",
    "print(title.text)\n",
    "title"
   ]
  },
  {
   "cell_type": "code",
   "execution_count": 33,
   "metadata": {},
   "outputs": [
    {
     "data": {
      "text/plain": [
       "'Government of Afghanistan'"
      ]
     },
     "execution_count": 33,
     "metadata": {},
     "output_type": "execute_result"
    }
   ],
   "source": [
    "# extract author from page HTML\n",
    "author = soup.find(\"span\", {\"class\" : \"field field-source\"})\n",
    "author.text.strip()"
   ]
  },
  {
   "cell_type": "code",
   "execution_count": 36,
   "metadata": {},
   "outputs": [
    {
     "name": "stdout",
     "output_type": "stream",
     "text": [
      "06 Jan 2018\n",
      "2018-01-06\n"
     ]
    }
   ],
   "source": [
    "# extract date from page HTML\n",
    "raw_date = soup.find(\"span\", {\"class\" : \"date-display-single\"})\n",
    "print(raw_date.text)\n",
    "# convert from raw text into a standardized form\n",
    "date = dateutil.parser.parse(raw_date.text)\n",
    "# Put it into a standard ISO format \n",
    "date = date.strftime(\"%Y-%m-%d\")\n",
    "print(date)"
   ]
  },
  {
   "cell_type": "code",
   "execution_count": null,
   "metadata": {},
   "outputs": [],
   "source": []
  },
  {
   "cell_type": "code",
   "execution_count": 37,
   "metadata": {},
   "outputs": [],
   "source": [
    "# put it all together!\n",
    "def page_scraper(url):\n",
    "    \"\"\"Function to scrape a page\"\"\"\n",
    "    # Code to download and soupify the page\n",
    "    page = requests.get(url)\n",
    "    content = page.content\n",
    "    soup = BeautifulSoup(content, \"lxml\")\n",
    "    # All the code to extract pieces from the HTML\n",
    "    title = soup.find(\"h1\", {\"class\" : \"node-title clearfix\"})\n",
    "    title = title.text.strip()\n",
    "    body = soup.find(\"div\", {\"class\" : \"field body\"})\n",
    "    body = body.text.strip()\n",
    "    raw_date = soup.find(\"span\", {\"class\" : \"date-display-single\"}).text\n",
    "    date = dateutil.parser.parse(raw_date)\n",
    "    date = date.strftime(\"%Y-%m-%d\")\n",
    "    author = soup.find(\"span\", {\"class\" : \"field field-source\"})\n",
    "    author = author.text.strip()\n",
    "    article = {\n",
    "        \"title\" : title,\n",
    "        \"body\" : body,\n",
    "        \"date\" : date,\n",
    "        \"author\" : author\n",
    "    }\n",
    "    return article"
   ]
  },
  {
   "cell_type": "code",
   "execution_count": 38,
   "metadata": {},
   "outputs": [
    {
     "data": {
      "text/plain": [
       "{'author': 'Government of Afghanistan',\n",
       " 'body': 'Directorate of Refugees and Repatriations(DoRR) of Laghman province with co-operation of DRC and CWSA have distributed for 203 displaced families which displaced from insecure places of Alingar, Kanda gul, districts and Khogiani district of Nangarhar province and returnees from Pakistan have placed in the central of this province.\\nThursday January 4, 2018 of the current year for 143 displaced families distributed 18000Af by DRC and for 60 displaced families distributed 100$ dolor by CWSA.',\n",
       " 'date': '2018-01-06',\n",
       " 'title': 'More than 200 Displaced families Receive Cash Assistance in Laghman Province'}"
      ]
     },
     "execution_count": 38,
     "metadata": {},
     "output_type": "execute_result"
    }
   ],
   "source": [
    "# test it\n",
    "page_scraper(url)"
   ]
  },
  {
   "cell_type": "code",
   "execution_count": 39,
   "metadata": {},
   "outputs": [
    {
     "data": {
      "text/plain": [
       "{'author': 'International Organization for Migration',\n",
       " 'body': 'Kuwait – As the recent Kuwait International Conference for the Reconstruction of Iraq came to a close, IOM, the UN Migration Agency, reported that internally displaced persons (IDPs) in Iraq continue to return home by the thousands.\\nAccording to IOM’s latest Displacement Tracking Matrix (DTM) report, as of 31 January 2018 more than 3.3 million Iraqis have returned to their areas of origin, while nearly 2.5 million people continue to live in displacement. New IOM figures show that return movements are ongoing – in January another 125,000 returnees were identified – mainly to the four governorates of Ninewa, Salah al-Din, Kirkuk and Anbar.\\nSince the start of the crisis in early 2014, with ISIL later holding large parts of central Iraq and the subsequent conflict to retake these areas, nearly six million Iraqis have been displaced. Their communities have suffered widespread devastation and damage.\\nIn January 2018, for the first time in more than three years, there were more returnees than internally displaced people. In the last three years, Anbar Governorate has received the largest number of returnees in the country, due to improved security, rehabilitation of services and rebuilding of infrastructures.\\nIn January 2018, the three governorates reporting the biggest decreases in IDP numbers were Ninewa (- 6 per cent), Baghdad (- 12 per cent), and Anbar (- 17 per cent). Together, they account for almost two-thirds of the nationwide decrease of IDPs (more than 145,000). Of the remaining 2.47 million IDPs in Iraq, only half (51 per cent) are reportedly housed in private settings, while more than a quarter (26 per cent) still live in camps.\\nThough Ninewa Governorate accounts for two-thirds (nearly 84,000) of the new returnees identified in January, IOM has noted that not all returnees to Mosul city stay there.\\nDue to lack of security, services and livelihood opportunities in west Mosul, approximately 600 families returned in January to Haj Ali camp.\\nReturnees living in critical shelters, including informal settlements and unfinished buildings, are concentrated in four governorates – Diyala (21,500 individuals), Salah al-Din (12,400), Ninewa (7,500) and Kirkuk (800). Iraq’s urgent need for fast-track reconstruction to assist the reintegration of IDPs in their areas of origin was also discussed at the recent Kuwait International Conference for Reconstruction of Iraq this past week.\\n“As Iraq enters the recovery phase after three years of conflict, we should remember that real reconstruction of the country will not only be based on rebuilding infrastructure,” said IOM Iraq Chief of Mission Gerard Waite. “Provision of specialized support to all who survived the conflict is also needed, alongside reconstruction of infrastructure.”\\nDuring the Kuwait conference, the UN launched a two-year Recovery and Resilience Programme, in which IOM Iraq takes part, to assist the Iraqi government in addressing the multiple needs for rebuilding and reconstruction in the country. The UN Secretary General spoke about the programme in his speech at the conference.\\nIOM Iraq, in partnership with the Government of Iraq, is focusing its recovery assistance on areas of return. This assistance includes mobile community information centres, light infrastructure projects, housing rehabilitation, strengthening health facilities, relief kit distribution and livelihood support.\\nFor more information on displacement across Iraq, visit the IOM Iraq DTM Portal: http://iraqdtm.iom.int\\nThe latest DTM report, with data through 31 January is available at:\\nhttps://reliefweb.int/node/2466259\\nFor more information please contact Sandra Black at IOM Iraq, Tel: +964 751 234 2550, Email: sblack@iom.int',\n",
       " 'date': '2018-02-20',\n",
       " 'title': 'Reconstruction Needed as Displaced Iraqis Continue to Return: IOM Iraq [EN/AR/KU]'}"
      ]
     },
     "execution_count": 39,
     "metadata": {},
     "output_type": "execute_result"
    }
   ],
   "source": [
    "# test it on a different page\n",
    "page_scraper(\"https://reliefweb.int/report/iraq/reconstruction-needed-displaced-iraqis-continue-return-iom-iraq\")"
   ]
  },
  {
   "cell_type": "code",
   "execution_count": null,
   "metadata": {},
   "outputs": [],
   "source": []
  },
  {
   "cell_type": "markdown",
   "metadata": {},
   "source": [
    "## Link getter"
   ]
  },
  {
   "cell_type": "markdown",
   "metadata": {},
   "source": [
    "Second, we need to get the URLS of all the pages we want to scrape. We can do this by finding the directory pages, where the links are on it, and how to get all available directory pages.\n",
    "\n",
    "Python things to learn here:\n",
    "\n",
    "- getting values from dictionaries\n",
    "- for loops and list comprehensions\n",
    "- regex with the `re` library\n",
    "- basic string operations"
   ]
  },
  {
   "cell_type": "code",
   "execution_count": null,
   "metadata": {},
   "outputs": [],
   "source": [
    "### Function to get all the article links from a single directory page"
   ]
  },
  {
   "cell_type": "code",
   "execution_count": 40,
   "metadata": {},
   "outputs": [],
   "source": [
    "url = \"https://reliefweb.int/country/afg?format=8&page=1\"\n",
    "page = requests.get(url)\n",
    "content = page.content"
   ]
  },
  {
   "cell_type": "code",
   "execution_count": 41,
   "metadata": {},
   "outputs": [],
   "source": [
    "soup = BeautifulSoup(content, \"lxml\")"
   ]
  },
  {
   "cell_type": "code",
   "execution_count": 58,
   "metadata": {},
   "outputs": [
    {
     "name": "stdout",
     "output_type": "stream",
     "text": [
      "[<a class=\"toggle\" href=\"#item-2809629\">description</a>, <a href=\"/country/pak\">Pakistan</a>, <a href=\"/report/pakistan/refugees-may-be-allowed-stay-till-june-2019\">Refugees may be allowed to stay till June 2019</a>, <a href=\"/organization/frontier-post\">Frontier Post</a>, <a class=\"toggle\" href=\"#item-2809464\">description</a>]\n"
     ]
    }
   ],
   "source": [
    "links = soup.find(\"div\", {\"class\" : \"river-list\"}).find_all(\"a\")\n",
    "print(links[0:5])"
   ]
  },
  {
   "cell_type": "code",
   "execution_count": 59,
   "metadata": {},
   "outputs": [
    {
     "data": {
      "text/plain": [
       "['#item-2809629',\n",
       " '/country/pak',\n",
       " '/report/pakistan/refugees-may-be-allowed-stay-till-june-2019',\n",
       " '/organization/frontier-post',\n",
       " '#item-2809464',\n",
       " '/country/afg',\n",
       " '/report/afghanistan/ghor-leaders-strategize-building-community-cohesion-foundations-peace',\n",
       " '/organization/unama',\n",
       " '#item-2808884',\n",
       " '/country/afg']"
      ]
     },
     "execution_count": 59,
     "metadata": {},
     "output_type": "execute_result"
    }
   ],
   "source": [
    "# pull out just the links\n",
    "links = [i['href'] for i in links]\n",
    "links[0:10]"
   ]
  },
  {
   "cell_type": "code",
   "execution_count": 60,
   "metadata": {},
   "outputs": [
    {
     "data": {
      "text/plain": [
       "['/report/pakistan/refugees-may-be-allowed-stay-till-june-2019',\n",
       " '/report/afghanistan/ghor-leaders-strategize-building-community-cohesion-foundations-peace',\n",
       " '/report/afghanistan/afghanistan-eqra-education-project',\n",
       " '/report/world/children-under-attack-six-grave-violations-against-children-times-war',\n",
       " '/report/spain/mediterranean-migrant-arrivals-reach-81207-2018-deaths-reach-1733']"
      ]
     },
     "execution_count": 60,
     "metadata": {},
     "output_type": "execute_result"
    }
   ],
   "source": [
    "# uh oh! `links` is full of all sorts of garbage. Is there a term\n",
    "#  that we can search for to reliably pull out article links only?\n",
    "links = [i for i in links if bool(re.match(\"/report\", i))]\n",
    "links[0:5]"
   ]
  },
  {
   "cell_type": "code",
   "execution_count": 61,
   "metadata": {},
   "outputs": [
    {
     "data": {
      "text/plain": [
       "['https://reliefweb.int/report/pakistan/refugees-may-be-allowed-stay-till-june-2019',\n",
       " 'https://reliefweb.int/report/afghanistan/ghor-leaders-strategize-building-community-cohesion-foundations-peace',\n",
       " 'https://reliefweb.int/report/afghanistan/afghanistan-eqra-education-project',\n",
       " 'https://reliefweb.int/report/world/children-under-attack-six-grave-violations-against-children-times-war',\n",
       " 'https://reliefweb.int/report/spain/mediterranean-migrant-arrivals-reach-81207-2018-deaths-reach-1733']"
      ]
     },
     "execution_count": 61,
     "metadata": {},
     "output_type": "execute_result"
    }
   ],
   "source": [
    "# These aren't complete urls! We can use string operations plus a list comprehension to fix this:\n",
    "links = [\"https://reliefweb.int\" + i for i in links]\n",
    "links[0:5]"
   ]
  },
  {
   "cell_type": "code",
   "execution_count": 65,
   "metadata": {},
   "outputs": [],
   "source": [
    "# Put it all together into a function that takes in a \"page number\" \n",
    "#  and returns all the links to scrape from it.\n",
    "def page_to_link(page_num):\n",
    "    # how to use .format()\n",
    "    url = \"https://reliefweb.int/country/afg?format=8&page={0}#content\".format(page_num)\n",
    "    # download the page\n",
    "    page = requests.get(url)\n",
    "    # get its content\n",
    "    content = page.content\n",
    "    # soupify\n",
    "    soup = BeautifulSoup(content, \"lxml\")\n",
    "    # pull out links\n",
    "    links = soup.find(\"div\", {\"class\" : \"river-list river-updates river-sort-latest\"})\n",
    "    links = links.find_all(\"a\")\n",
    "    links = [i['href'] for i in links]\n",
    "    # clean links\n",
    "    links = [i for i in links if bool(re.match(\"/report\", i))]\n",
    "    links = [\"https://reliefweb.int\" + i for i in links]\n",
    "    return links"
   ]
  },
  {
   "cell_type": "markdown",
   "metadata": {},
   "source": [
    "## Putting it together\n",
    "\n",
    "Now we have a function that'll take a page number for the archive page and return all the links.\n",
    "We have another function that'll take in an article URL and give us the structured content from the page.\n",
    "\n",
    "Let's put them together and download a (small!) range of stories.\n",
    "\n",
    "Note: let's be nice to the UN and not all download the whole thing at once."
   ]
  },
  {
   "cell_type": "code",
   "execution_count": 67,
   "metadata": {},
   "outputs": [
    {
     "data": {
      "text/plain": [
       "'https://reliefweb.int/report/afghanistan/afghanistan-hails-new-improved-hydrometerological-service'"
      ]
     },
     "execution_count": 67,
     "metadata": {},
     "output_type": "execute_result"
    }
   ],
   "source": [
    "# get all the links we want to scrape\n",
    "all_links = []\n",
    "\n",
    "for num in range(1, 5):\n",
    "    lks = page_to_link(num)\n",
    "    all_links.extend(lks) # extend! not append.\n",
    "    \n",
    "len(all_links)\n",
    "\n",
    "all_links[12]"
   ]
  },
  {
   "cell_type": "code",
   "execution_count": 68,
   "metadata": {},
   "outputs": [],
   "source": [
    "all_content = []\n",
    "\n",
    "for link in all_links[10:20]: # be nice to reliefweb and only get some \n",
    "    try:\n",
    "        content = page_scraper(link)\n",
    "        all_content.append(content) # back to append!\n",
    "    except Exception as e:\n",
    "        # if something goes wrong, keep trucking,\n",
    "        #  but print out the link so we can diagnose it.\n",
    "        print(e)\n",
    "        print(link)"
   ]
  },
  {
   "cell_type": "code",
   "execution_count": 69,
   "metadata": {},
   "outputs": [
    {
     "data": {
      "text/plain": [
       "10"
      ]
     },
     "execution_count": 69,
     "metadata": {},
     "output_type": "execute_result"
    }
   ],
   "source": [
    "len(all_content)"
   ]
  },
  {
   "cell_type": "code",
   "execution_count": 70,
   "metadata": {},
   "outputs": [
    {
     "data": {
      "text/plain": [
       "{'author': \"European Commission's Directorate-General for European Civil Protection and Humanitarian Aid Operations, International Rescue Committee\",\n",
       " 'body': 'Assessment Finding and Recommendation in brief:\\n\\nThe security situation in Ghazni province started worsening during the month of July 2018 and finally On 10 August, AOGs attacked Ghazni City, the provincial capital of Ghazni Province 150 kilometers south-west of Kabul with an estimated 270,000 residents. Following attacks against key Government offices, critical infrastructure was damaged. Communications networks and the electricity supply got down in Ghazni, resulting in water shortages due to non-functional pumps. The reported presence of members of the Taliban in civilian homes and market places has heightened the risk of civilian casualties arising from any military aerial response, while the placement of improvised explosive devices (IEDs) along Highway 1 both north and south of the city has prevented civilians from safely fleeing the violence.\\nDuring the last week of August, Reportedly, the general situation in the city has returned to how it was prior to the attack on 10 August. Residents move freely and markets and shops have reopened. The rehabilitation of the markets damaged during the fighting has begun. Telecommunications networks, electricity and water are back to normal and government offices have reopened, ac-cording to reports from inside the city. The hospital is functioning, but continues to be over-stretched with treating trauma patients. Medical supplies are on standby in Kabul to be dispatched, if needed. Improvised explosive devices (IEDs) along the highway connecting Kabul with Ghazni have reportedly been removed by Afghan military forces and the road is open for civilian traffic.\\nHumanitarian partners identified more than 21,000 displaced people for humanitarian assistance by 25 August in eight neighborhoods of the city. Response by different actors is ongoing and WFP and ARC have provide support to more than 20,000 people. In some areas people who fled the area have returned back, however in the some of the areas people are still displacing to safe neighboring areas, though the influx to other areas is very less as compared to what was reported after the attack on the city.\\nOCHA and DORR in Dykundi reported 278 families displacement to a District Mairmore. ACF flying team started the assessment in district Mairamore on 31st August. Assessment has been very challenging in Mairmore due to road conditions, lack of mobile networks and hosting communities who wanted to be part of assistance.\\nOn13th of September ACF completed the assessment of 233 HHs, there are still some villages inaccessible, ACF security team together with local authorities is conducting the security assessment, it is likely that assessment is again started next week in the villages missed from the first round of assessment. Furthermore, assessment is ongoing in provincial headquarter Nili with IDPs from other areas.',\n",
       " 'date': '2018-09-25',\n",
       " 'title': 'ERM Household Assessment Report: 1# assessments: 230 Conflict affected IDP HHs assessment report in DKY'}"
      ]
     },
     "execution_count": 70,
     "metadata": {},
     "output_type": "execute_result"
    }
   ],
   "source": [
    "all_content[4]"
   ]
  },
  {
   "cell_type": "markdown",
   "metadata": {},
   "source": [
    "## Saving as CSV\n",
    "\n",
    "If you're going to work with your text next in R, a CSV is probably the most useful form to save your text in. To save it as a csv, we will convert into a `DataFrame` using `pandas`, a package for working with data in Python. `pandas` will then let us easily write it out to a CSV."
   ]
  },
  {
   "cell_type": "code",
   "execution_count": 71,
   "metadata": {},
   "outputs": [
    {
     "data": {
      "text/html": [
       "<div>\n",
       "<style scoped>\n",
       "    .dataframe tbody tr th:only-of-type {\n",
       "        vertical-align: middle;\n",
       "    }\n",
       "\n",
       "    .dataframe tbody tr th {\n",
       "        vertical-align: top;\n",
       "    }\n",
       "\n",
       "    .dataframe thead th {\n",
       "        text-align: right;\n",
       "    }\n",
       "</style>\n",
       "<table border=\"1\" class=\"dataframe\">\n",
       "  <thead>\n",
       "    <tr style=\"text-align: right;\">\n",
       "      <th></th>\n",
       "      <th>author</th>\n",
       "      <th>body</th>\n",
       "      <th>date</th>\n",
       "      <th>title</th>\n",
       "    </tr>\n",
       "  </thead>\n",
       "  <tbody>\n",
       "    <tr>\n",
       "      <th>0</th>\n",
       "      <td>UN General Assembly</td>\n",
       "      <td>GA/12064\\n26 SEPTEMBER 2018\\nGENERAL ASSEMBLY ...</td>\n",
       "      <td>2018-09-26</td>\n",
       "      <td>Climate Change, Economic Inequality, Systemic ...</td>\n",
       "    </tr>\n",
       "    <tr>\n",
       "      <th>1</th>\n",
       "      <td>UN High Commissioner for Refugees</td>\n",
       "      <td>Sixty-ninth session Geneva, 1-5 October 2018\\n...</td>\n",
       "      <td>2018-09-26</td>\n",
       "      <td>69th Session of the Executive Committee of the...</td>\n",
       "    </tr>\n",
       "    <tr>\n",
       "      <th>2</th>\n",
       "      <td>World Meteorological Organization</td>\n",
       "      <td>A WMO-led project to establish a functioning h...</td>\n",
       "      <td>2018-09-26</td>\n",
       "      <td>Afghanistan hails new, improved hydrometerolog...</td>\n",
       "    </tr>\n",
       "    <tr>\n",
       "      <th>3</th>\n",
       "      <td>US Agency for International Development</td>\n",
       "      <td>Office of Press Relations\\nTelephone: +1.202.7...</td>\n",
       "      <td>2018-09-25</td>\n",
       "      <td>Administrator Green Announces Finalists for th...</td>\n",
       "    </tr>\n",
       "    <tr>\n",
       "      <th>4</th>\n",
       "      <td>European Commission's Directorate-General for ...</td>\n",
       "      <td>Assessment Finding and Recommendation in brief...</td>\n",
       "      <td>2018-09-25</td>\n",
       "      <td>ERM Household Assessment Report: 1# assessment...</td>\n",
       "    </tr>\n",
       "    <tr>\n",
       "      <th>5</th>\n",
       "      <td>UN Assistance Mission in Afghanistan</td>\n",
       "      <td>KABUL - Preliminary findings from the UN Assis...</td>\n",
       "      <td>2018-09-25</td>\n",
       "      <td>Preliminary findings indicate airstrike killed...</td>\n",
       "    </tr>\n",
       "    <tr>\n",
       "      <th>6</th>\n",
       "      <td>US Agency for International Development</td>\n",
       "      <td>Kabul, Afghanistan - The U.S. Government's Wom...</td>\n",
       "      <td>2018-09-25</td>\n",
       "      <td>U.S. Government Programs Recognize 300 Afghan ...</td>\n",
       "    </tr>\n",
       "    <tr>\n",
       "      <th>7</th>\n",
       "      <td>UN Assistance Mission in Afghanistan</td>\n",
       "      <td>KABUL - The UN Assistance Mission in Afghanist...</td>\n",
       "      <td>2018-09-25</td>\n",
       "      <td>Concern about rising number of civilian casual...</td>\n",
       "    </tr>\n",
       "    <tr>\n",
       "      <th>8</th>\n",
       "      <td>IRIN</td>\n",
       "      <td>Slim prospects for moving on or earning a livi...</td>\n",
       "      <td>2018-09-24</td>\n",
       "      <td>Fleeing worsening war, Afghans find narrowing ...</td>\n",
       "    </tr>\n",
       "    <tr>\n",
       "      <th>9</th>\n",
       "      <td>World Health Organization</td>\n",
       "      <td>Kabul, 18 September 2018 – A new polio case ha...</td>\n",
       "      <td>2018-09-18</td>\n",
       "      <td>Ministry urges vaccination as 14th polio case ...</td>\n",
       "    </tr>\n",
       "  </tbody>\n",
       "</table>\n",
       "</div>"
      ],
      "text/plain": [
       "                                              author  \\\n",
       "0                                UN General Assembly   \n",
       "1                  UN High Commissioner for Refugees   \n",
       "2                  World Meteorological Organization   \n",
       "3            US Agency for International Development   \n",
       "4  European Commission's Directorate-General for ...   \n",
       "5               UN Assistance Mission in Afghanistan   \n",
       "6            US Agency for International Development   \n",
       "7               UN Assistance Mission in Afghanistan   \n",
       "8                                               IRIN   \n",
       "9                          World Health Organization   \n",
       "\n",
       "                                                body        date  \\\n",
       "0  GA/12064\\n26 SEPTEMBER 2018\\nGENERAL ASSEMBLY ...  2018-09-26   \n",
       "1  Sixty-ninth session Geneva, 1-5 October 2018\\n...  2018-09-26   \n",
       "2  A WMO-led project to establish a functioning h...  2018-09-26   \n",
       "3  Office of Press Relations\\nTelephone: +1.202.7...  2018-09-25   \n",
       "4  Assessment Finding and Recommendation in brief...  2018-09-25   \n",
       "5  KABUL - Preliminary findings from the UN Assis...  2018-09-25   \n",
       "6  Kabul, Afghanistan - The U.S. Government's Wom...  2018-09-25   \n",
       "7  KABUL - The UN Assistance Mission in Afghanist...  2018-09-25   \n",
       "8  Slim prospects for moving on or earning a livi...  2018-09-24   \n",
       "9  Kabul, 18 September 2018 – A new polio case ha...  2018-09-18   \n",
       "\n",
       "                                               title  \n",
       "0  Climate Change, Economic Inequality, Systemic ...  \n",
       "1  69th Session of the Executive Committee of the...  \n",
       "2  Afghanistan hails new, improved hydrometerolog...  \n",
       "3  Administrator Green Announces Finalists for th...  \n",
       "4  ERM Household Assessment Report: 1# assessment...  \n",
       "5  Preliminary findings indicate airstrike killed...  \n",
       "6  U.S. Government Programs Recognize 300 Afghan ...  \n",
       "7  Concern about rising number of civilian casual...  \n",
       "8  Fleeing worsening war, Afghans find narrowing ...  \n",
       "9  Ministry urges vaccination as 14th polio case ...  "
      ]
     },
     "execution_count": 71,
     "metadata": {},
     "output_type": "execute_result"
    }
   ],
   "source": [
    "import pandas as pd\n",
    "\n",
    "content_df = pd.DataFrame(all_content)\n",
    "#content_df\n",
    "content_df.to_csv(\"all_content.csv\")"
   ]
  },
  {
   "cell_type": "markdown",
   "metadata": {
    "collapsed": true
   },
   "source": [
    "## Saving as JSON\n",
    "\n",
    "We can also store is as a JSON file. JSON and dictionaries are almost equivalent, so it's a natural form to save a dict as a JSON file."
   ]
  },
  {
   "cell_type": "code",
   "execution_count": 72,
   "metadata": {},
   "outputs": [],
   "source": [
    "import json"
   ]
  },
  {
   "cell_type": "code",
   "execution_count": 73,
   "metadata": {},
   "outputs": [],
   "source": [
    "FILENAME = \"reliefweb.json\"\n",
    "\n",
    "with open(FILENAME, \"w\") as f:\n",
    "    json.dump(all_content, f)"
   ]
  },
  {
   "cell_type": "markdown",
   "metadata": {},
   "source": [
    "### Read it back in\n",
    "\n",
    "If you want to load it back in later to analyze, you can do this:"
   ]
  },
  {
   "cell_type": "code",
   "execution_count": 74,
   "metadata": {},
   "outputs": [],
   "source": [
    "FILENAME = \"reliefweb.json\"\n",
    "\n",
    "with open(FILENAME, \"r\") as f:\n",
    "    loaded_content = json.load(f)"
   ]
  },
  {
   "cell_type": "code",
   "execution_count": 75,
   "metadata": {},
   "outputs": [],
   "source": [
    "# is it the same?\n",
    "assert loaded_content[4] == all_content[4]"
   ]
  },
  {
   "cell_type": "code",
   "execution_count": 76,
   "metadata": {},
   "outputs": [
    {
     "data": {
      "text/plain": [
       "[0, 1, 2]"
      ]
     },
     "execution_count": 76,
     "metadata": {},
     "output_type": "execute_result"
    }
   ],
   "source": [
    "list(range(0, 3))"
   ]
  },
  {
   "cell_type": "code",
   "execution_count": null,
   "metadata": {},
   "outputs": [],
   "source": []
  }
 ],
 "metadata": {
  "kernelspec": {
   "display_name": "Python 3",
   "language": "python",
   "name": "python3"
  },
  "language_info": {
   "codemirror_mode": {
    "name": "ipython",
    "version": 3
   },
   "file_extension": ".py",
   "mimetype": "text/x-python",
   "name": "python",
   "nbconvert_exporter": "python",
   "pygments_lexer": "ipython3",
   "version": "3.6.8"
  }
 },
 "nbformat": 4,
 "nbformat_minor": 2
}
