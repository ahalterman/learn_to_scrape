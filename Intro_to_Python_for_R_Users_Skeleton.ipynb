{
  "nbformat": 4,
  "nbformat_minor": 0,
  "metadata": {
    "kernelspec": {
      "display_name": "Python 3",
      "language": "python",
      "name": "python3"
    },
    "language_info": {
      "codemirror_mode": {
        "name": "ipython",
        "version": 3
      },
      "file_extension": ".py",
      "mimetype": "text/x-python",
      "name": "python",
      "nbconvert_exporter": "python",
      "pygments_lexer": "ipython3",
      "version": "3.6.8"
    },
    "colab": {
      "name": "Intro_to_Python_for_R_Users_Skeleton.ipynb",
      "provenance": [],
      "collapsed_sections": []
    }
  },
  "cells": [
    {
      "cell_type": "markdown",
      "metadata": {
        "id": "XY3V3eL2yOdT"
      },
      "source": [
        "# Short introduction to Python for R users\n",
        "\n"
      ]
    },
    {
      "cell_type": "markdown",
      "metadata": {
        "id": "84Ihlxd4yOdh"
      },
      "source": [
        "## Jupyter Notebooks\n",
        "\n",
        "Jupyter notebooks are a way of writing code, running code, and displaying output in one convenient place. You can write code in code blocks, or write markdown/text in blocks like this. It's often useful to explain what you're doing and finding so when you or someone else picks up the notebook in the future they'll know what's going on.\n",
        "\n",
        "You can execute code chunks by clicking the cell to run and hitting \"Run\" button on the top bar, or by typing \"shift-enter\". You can always return to a previous code chunk, modify it, and re-run it.\n",
        "\n",
        "You can write math in notebooks, just like in Rmarkdown: $\\bar{x} = \\frac{1}{n}\\sum_{i=1}^n x_i$\n",
        "\n",
        "Jupyter is great for prototyping, but for more heavy duty use, replication, running on a server, etc., I recommend re-writing the code into a `.py` file that can be called from the command line with `python mycode.py`. This process also gives you a chance to refactor your code, making it more efficient, readable, and dependable. You can convert a notebook to (messy) Python code by going `File > Download as > Python (.py)`."
      ]
    },
    {
      "cell_type": "markdown",
      "metadata": {
        "id": "6GgEHeXhyOdn"
      },
      "source": [
        "## Python vs. R\n",
        "\n",
        "Python and R are fairly similar. This is a quick overview of the differences to help you get up to speed.\n",
        "\n",
        "### Installing and importing packages\n",
        "\n",
        "- In Python, packages are installed from the command line, NOT from inside Python itself. We can run command line commands from within a Jupyter Notebook. To do so prepend `!` to the command. To install the `mypackage` package you can run `!pip install mypackage` or from the terminal,\n",
        "  run `pip install mypackage`. \n",
        "- Importing packages is similar: instead of `[R] library(mypackage)`, do `[Python] import mypackage`.\n",
        "- Python also lets you import specific functions from a package: `from mypackage import cool_function`\n",
        "- You can also rename packages if they're too long: `import numpy as np`"
      ]
    },
    {
      "cell_type": "code",
      "metadata": {
        "id": "b7kWkFJKyOdo"
      },
      "source": [
        "# practice by installing tqdm and import the tqdm function from it\n"
      ],
      "execution_count": null,
      "outputs": []
    },
    {
      "cell_type": "markdown",
      "metadata": {
        "id": "v3w_bykgyOdq"
      },
      "source": [
        "### What are all those dots for? (Or, methods, attributes, and namespaces)\n",
        "\n",
        "- Dots have special meaning in Python. It's not like R, where people put dots in all sorts of names.\n",
        "- Python is much more careful about keeping packages' functions attached to the functions. If the `requests` library has a function called `get`, you call it like this `requests.get()`. This reminds you where the `get` function came from and prevents you from overwriting some other package's `get` function.\n",
        "- Python is also more \"object oriented\" than R. Objects often have built in or attached functions, called methods. \n",
        "- These methods are called with a dot notation. Compare: \n",
        "```\n",
        "[R] strsplit(\"Andy Halterman\", \" \")\n",
        "```\n",
        "and\n",
        "\n",
        "```\n",
        "    [Python] \"Andy Halterman\".split(\" \")\n",
        "```\n",
        "\n",
        "- Objects can also have attributes, which are pieces of data attached to an object. Example: `andy.subfields = ['methods', 'security']`\n"
      ]
    },
    {
      "cell_type": "code",
      "metadata": {
        "id": "qM8wD6PiyOdq"
      },
      "source": [
        "## Practice! Can you figure out how to make a string all upper case?\n"
      ],
      "execution_count": null,
      "outputs": []
    },
    {
      "cell_type": "markdown",
      "metadata": {
        "id": "vPT3_949yOdr"
      },
      "source": [
        "### Data Structures\n",
        "\n",
        "- Like R's vectors, Python uses a lot of lists. These are ordered arrays. Note that Python starts with 0! \n",
        "\n",
        "```\n",
        "my_list = [\"x\", \"y\", \"z\"]\n",
        "> my_list[0] \n",
        "x\n",
        "```\n",
        "\n",
        "- Python has a data structure called a dictionary, which are like lists that you access by key name instead of by position (think a more general form of R's dataframes). Example:\n",
        "\n",
        "```\n",
        "article = {\"title\": \"Rivalry and Revenge\",\n",
        "           \"author\" : \"Balcells\",\n",
        "           \"year\" : \"2017\"}\n",
        "\n",
        "> article.keys()\n",
        "['title', 'author', 'year']\n",
        "\n",
        "> article['author']\n",
        "\"Balcells\"\n",
        "```\n",
        "\n",
        "### Loops and functions\n",
        "\n",
        "\n",
        "- Functions are only slightly different from R:\n",
        "\n",
        "```\n",
        "def my_function(x):\n",
        "    z = (x + 2)^2\n",
        "    return z\n",
        "```\n",
        "\n",
        "- Loops are fast and nice in Python, unlike in R, and are very easily done:\n",
        "\n",
        "```\n",
        "for i in my_list:\n",
        "    my_function(i)\n",
        "```\n",
        "\n",
        "- Pro move: list comprehensions:\n",
        "\n",
        "```\n",
        "[my_function(i) for i in my_list]\n",
        "```"
      ]
    },
    {
      "cell_type": "code",
      "metadata": {
        "id": "Od0oampcyOdr"
      },
      "source": [
        "## Practice! Can you make a list of words, write a loop that goes over the list, and \n",
        "## prints a capitalized version of each one?\n"
      ],
      "execution_count": null,
      "outputs": []
    },
    {
      "cell_type": "markdown",
      "metadata": {
        "id": "OOXwfw8IyOds"
      },
      "source": [
        "### Whitespace\n",
        "\n",
        "- As you can tell, Python makes heavy use of whitespace to set apart different levels of functions, for loops, etc. Use four spaces (Jupyter converts tabs to four spaces automatically. \n",
        "- No need for curly braces!\n",
        "\n",
        "```\n",
        "def my_function(big_list):\n",
        "    print(len(big_list))\n",
        "    for l in big_list:\n",
        "        for i in l:\n",
        "            ...\n",
        "    return stuff\n",
        "```"
      ]
    },
    {
      "cell_type": "markdown",
      "metadata": {
        "id": "a35pp2kp1bnr"
      },
      "source": [
        "## Extra fun: Progress bars"
      ]
    },
    {
      "cell_type": "code",
      "metadata": {
        "id": "NANxC2pAyOds"
      },
      "source": [
        "# tqdm is one of my favorite libraries in Python.\n",
        "# It makes very nice progress bars without any real effort:\n",
        "from tqdm.autonotebook import tqdm\n",
        "from time import sleep\n",
        "\n",
        "_ = [sleep(0.01) for i in tqdm(range(0, 500))]"
      ],
      "execution_count": null,
      "outputs": []
    }
  ]
}